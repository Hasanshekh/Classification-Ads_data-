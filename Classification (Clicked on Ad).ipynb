{
 "cells": [
  {
   "cell_type": "code",
   "execution_count": 1,
   "id": "oriented-barrel",
   "metadata": {},
   "outputs": [],
   "source": [
    "import pandas as pd\n",
    "import numpy as np\n",
    "import seaborn as sns\n",
    "import matplotlib.pyplot as plt\n",
    "get_ipython().run_line_magic('matplotlib', 'inline')\n",
    "from sklearn.metrics import classification_report\n",
    "from sklearn.model_selection import GridSearchCV"
   ]
  },
  {
   "cell_type": "code",
   "execution_count": 2,
   "id": "certified-salmon",
   "metadata": {},
   "outputs": [
    {
     "name": "stdout",
     "output_type": "stream",
     "text": [
      "CPU times: total: 15.6 ms\n",
      "Wall time: 9.97 ms\n"
     ]
    }
   ],
   "source": [
    "%%time\n",
    "df = pd.read_csv('advertising.csv')"
   ]
  },
  {
   "cell_type": "code",
   "execution_count": 3,
   "id": "consistent-artwork",
   "metadata": {},
   "outputs": [
    {
     "data": {
      "text/plain": [
       "10000"
      ]
     },
     "execution_count": 3,
     "metadata": {},
     "output_type": "execute_result"
    }
   ],
   "source": [
    "df.size"
   ]
  },
  {
   "cell_type": "code",
   "execution_count": 4,
   "id": "ccafeffa",
   "metadata": {},
   "outputs": [
    {
     "data": {
      "text/plain": [
       "(1000, 10)"
      ]
     },
     "execution_count": 4,
     "metadata": {},
     "output_type": "execute_result"
    }
   ],
   "source": [
    "df.shape"
   ]
  },
  {
   "cell_type": "code",
   "execution_count": 5,
   "id": "isolated-intelligence",
   "metadata": {},
   "outputs": [
    {
     "data": {
      "text/html": [
       "<div>\n",
       "<style scoped>\n",
       "    .dataframe tbody tr th:only-of-type {\n",
       "        vertical-align: middle;\n",
       "    }\n",
       "\n",
       "    .dataframe tbody tr th {\n",
       "        vertical-align: top;\n",
       "    }\n",
       "\n",
       "    .dataframe thead th {\n",
       "        text-align: right;\n",
       "    }\n",
       "</style>\n",
       "<table border=\"1\" class=\"dataframe\">\n",
       "  <thead>\n",
       "    <tr style=\"text-align: right;\">\n",
       "      <th></th>\n",
       "      <th>Daily Time Spent on Site</th>\n",
       "      <th>Age</th>\n",
       "      <th>Area Income</th>\n",
       "      <th>Daily Internet Usage</th>\n",
       "      <th>Ad Topic Line</th>\n",
       "      <th>City</th>\n",
       "      <th>Male</th>\n",
       "      <th>Country</th>\n",
       "      <th>Timestamp</th>\n",
       "      <th>Clicked on Ad</th>\n",
       "    </tr>\n",
       "  </thead>\n",
       "  <tbody>\n",
       "    <tr>\n",
       "      <th>0</th>\n",
       "      <td>68.95</td>\n",
       "      <td>35</td>\n",
       "      <td>61833.90</td>\n",
       "      <td>256.09</td>\n",
       "      <td>Cloned 5thgeneration orchestration</td>\n",
       "      <td>Wrightburgh</td>\n",
       "      <td>0</td>\n",
       "      <td>Tunisia</td>\n",
       "      <td>27-03-2016 00:53</td>\n",
       "      <td>0</td>\n",
       "    </tr>\n",
       "    <tr>\n",
       "      <th>1</th>\n",
       "      <td>80.23</td>\n",
       "      <td>31</td>\n",
       "      <td>68441.85</td>\n",
       "      <td>193.77</td>\n",
       "      <td>Monitored national standardization</td>\n",
       "      <td>West Jodi</td>\n",
       "      <td>1</td>\n",
       "      <td>Nauru</td>\n",
       "      <td>04-04-2016 1:39</td>\n",
       "      <td>0</td>\n",
       "    </tr>\n",
       "    <tr>\n",
       "      <th>2</th>\n",
       "      <td>69.47</td>\n",
       "      <td>26</td>\n",
       "      <td>59785.94</td>\n",
       "      <td>236.50</td>\n",
       "      <td>Organic bottom-line service-desk</td>\n",
       "      <td>Davidton</td>\n",
       "      <td>0</td>\n",
       "      <td>San Marino</td>\n",
       "      <td>13-03-2016 20:35</td>\n",
       "      <td>0</td>\n",
       "    </tr>\n",
       "    <tr>\n",
       "      <th>3</th>\n",
       "      <td>74.15</td>\n",
       "      <td>29</td>\n",
       "      <td>54806.18</td>\n",
       "      <td>245.89</td>\n",
       "      <td>Triple-buffered reciprocal time-frame</td>\n",
       "      <td>West Terrifurt</td>\n",
       "      <td>1</td>\n",
       "      <td>Italy</td>\n",
       "      <td>10-01-2016 2:31</td>\n",
       "      <td>0</td>\n",
       "    </tr>\n",
       "    <tr>\n",
       "      <th>4</th>\n",
       "      <td>68.37</td>\n",
       "      <td>35</td>\n",
       "      <td>73889.99</td>\n",
       "      <td>225.58</td>\n",
       "      <td>Robust logistical utilization</td>\n",
       "      <td>South Manuel</td>\n",
       "      <td>0</td>\n",
       "      <td>Iceland</td>\n",
       "      <td>03-06-2016 3:36</td>\n",
       "      <td>0</td>\n",
       "    </tr>\n",
       "  </tbody>\n",
       "</table>\n",
       "</div>"
      ],
      "text/plain": [
       "   Daily Time Spent on Site  Age  Area Income  Daily Internet Usage  \\\n",
       "0                     68.95   35     61833.90                256.09   \n",
       "1                     80.23   31     68441.85                193.77   \n",
       "2                     69.47   26     59785.94                236.50   \n",
       "3                     74.15   29     54806.18                245.89   \n",
       "4                     68.37   35     73889.99                225.58   \n",
       "\n",
       "                           Ad Topic Line            City  Male     Country  \\\n",
       "0     Cloned 5thgeneration orchestration     Wrightburgh     0     Tunisia   \n",
       "1     Monitored national standardization       West Jodi     1       Nauru   \n",
       "2       Organic bottom-line service-desk        Davidton     0  San Marino   \n",
       "3  Triple-buffered reciprocal time-frame  West Terrifurt     1       Italy   \n",
       "4          Robust logistical utilization    South Manuel     0     Iceland   \n",
       "\n",
       "          Timestamp  Clicked on Ad  \n",
       "0  27-03-2016 00:53              0  \n",
       "1   04-04-2016 1:39              0  \n",
       "2  13-03-2016 20:35              0  \n",
       "3   10-01-2016 2:31              0  \n",
       "4   03-06-2016 3:36              0  "
      ]
     },
     "execution_count": 5,
     "metadata": {},
     "output_type": "execute_result"
    }
   ],
   "source": [
    "df.head()"
   ]
  },
  {
   "cell_type": "markdown",
   "id": "a8d4b19e",
   "metadata": {},
   "source": [
    "### checking missing values"
   ]
  },
  {
   "cell_type": "code",
   "execution_count": 6,
   "id": "expressed-trinity",
   "metadata": {},
   "outputs": [
    {
     "data": {
      "text/plain": [
       "Daily Time Spent on Site    0\n",
       "Age                         0\n",
       "Area Income                 0\n",
       "Daily Internet Usage        0\n",
       "Ad Topic Line               0\n",
       "City                        0\n",
       "Male                        0\n",
       "Country                     0\n",
       "Timestamp                   0\n",
       "Clicked on Ad               0\n",
       "dtype: int64"
      ]
     },
     "execution_count": 6,
     "metadata": {},
     "output_type": "execute_result"
    }
   ],
   "source": [
    "df.isnull().sum()"
   ]
  },
  {
   "cell_type": "code",
   "execution_count": 7,
   "id": "a4aba6c2",
   "metadata": {
    "scrolled": true
   },
   "outputs": [
    {
     "name": "stdout",
     "output_type": "stream",
     "text": [
      "Duplicates in data set: 0 (0.0%)\n"
     ]
    }
   ],
   "source": [
    "print(f'Duplicates in data set: {df.duplicated().sum()} ({np.round(100*df.duplicated().sum()/len(df), 1)}%)')"
   ]
  },
  {
   "cell_type": "markdown",
   "id": "several-vegetation",
   "metadata": {},
   "source": [
    "##### NO Missing Value Found"
   ]
  },
  {
   "cell_type": "markdown",
   "id": "d149121a",
   "metadata": {},
   "source": [
    "### checking datatypes"
   ]
  },
  {
   "cell_type": "code",
   "execution_count": 8,
   "id": "alike-bachelor",
   "metadata": {
    "scrolled": false
   },
   "outputs": [
    {
     "data": {
      "text/plain": [
       "Daily Time Spent on Site    float64\n",
       "Age                           int64\n",
       "Area Income                 float64\n",
       "Daily Internet Usage        float64\n",
       "Ad Topic Line                object\n",
       "City                         object\n",
       "Male                          int64\n",
       "Country                      object\n",
       "Timestamp                    object\n",
       "Clicked on Ad                 int64\n",
       "dtype: object"
      ]
     },
     "execution_count": 8,
     "metadata": {},
     "output_type": "execute_result"
    }
   ],
   "source": [
    "df.dtypes"
   ]
  },
  {
   "cell_type": "markdown",
   "id": "81e5e904",
   "metadata": {},
   "source": [
    "    There is 4 object data type is found.\n",
    "    3 discrete features and 2 continuous features (without the target feature). "
   ]
  },
  {
   "cell_type": "code",
   "execution_count": 9,
   "id": "50ce9090",
   "metadata": {
    "scrolled": true
   },
   "outputs": [
    {
     "data": {
      "text/html": [
       "<div>\n",
       "<style scoped>\n",
       "    .dataframe tbody tr th:only-of-type {\n",
       "        vertical-align: middle;\n",
       "    }\n",
       "\n",
       "    .dataframe tbody tr th {\n",
       "        vertical-align: top;\n",
       "    }\n",
       "\n",
       "    .dataframe thead th {\n",
       "        text-align: right;\n",
       "    }\n",
       "</style>\n",
       "<table border=\"1\" class=\"dataframe\">\n",
       "  <thead>\n",
       "    <tr style=\"text-align: right;\">\n",
       "      <th></th>\n",
       "      <th>Daily Time Spent on Site</th>\n",
       "      <th>Age</th>\n",
       "      <th>Area Income</th>\n",
       "      <th>Daily Internet Usage</th>\n",
       "      <th>Male</th>\n",
       "      <th>Clicked on Ad</th>\n",
       "    </tr>\n",
       "  </thead>\n",
       "  <tbody>\n",
       "    <tr>\n",
       "      <th>count</th>\n",
       "      <td>1000.000000</td>\n",
       "      <td>1000.000000</td>\n",
       "      <td>1000.000000</td>\n",
       "      <td>1000.000000</td>\n",
       "      <td>1000.000000</td>\n",
       "      <td>1000.00000</td>\n",
       "    </tr>\n",
       "    <tr>\n",
       "      <th>mean</th>\n",
       "      <td>65.000200</td>\n",
       "      <td>36.009000</td>\n",
       "      <td>55000.000080</td>\n",
       "      <td>180.000100</td>\n",
       "      <td>0.481000</td>\n",
       "      <td>0.50000</td>\n",
       "    </tr>\n",
       "    <tr>\n",
       "      <th>std</th>\n",
       "      <td>15.853615</td>\n",
       "      <td>8.785562</td>\n",
       "      <td>13414.634022</td>\n",
       "      <td>43.902339</td>\n",
       "      <td>0.499889</td>\n",
       "      <td>0.50025</td>\n",
       "    </tr>\n",
       "    <tr>\n",
       "      <th>min</th>\n",
       "      <td>32.600000</td>\n",
       "      <td>19.000000</td>\n",
       "      <td>13996.500000</td>\n",
       "      <td>104.780000</td>\n",
       "      <td>0.000000</td>\n",
       "      <td>0.00000</td>\n",
       "    </tr>\n",
       "    <tr>\n",
       "      <th>25%</th>\n",
       "      <td>51.360000</td>\n",
       "      <td>29.000000</td>\n",
       "      <td>47031.802500</td>\n",
       "      <td>138.830000</td>\n",
       "      <td>0.000000</td>\n",
       "      <td>0.00000</td>\n",
       "    </tr>\n",
       "    <tr>\n",
       "      <th>50%</th>\n",
       "      <td>68.215000</td>\n",
       "      <td>35.000000</td>\n",
       "      <td>57012.300000</td>\n",
       "      <td>183.130000</td>\n",
       "      <td>0.000000</td>\n",
       "      <td>0.50000</td>\n",
       "    </tr>\n",
       "    <tr>\n",
       "      <th>75%</th>\n",
       "      <td>78.547500</td>\n",
       "      <td>42.000000</td>\n",
       "      <td>65470.635000</td>\n",
       "      <td>218.792500</td>\n",
       "      <td>1.000000</td>\n",
       "      <td>1.00000</td>\n",
       "    </tr>\n",
       "    <tr>\n",
       "      <th>max</th>\n",
       "      <td>91.430000</td>\n",
       "      <td>61.000000</td>\n",
       "      <td>79484.800000</td>\n",
       "      <td>269.960000</td>\n",
       "      <td>1.000000</td>\n",
       "      <td>1.00000</td>\n",
       "    </tr>\n",
       "  </tbody>\n",
       "</table>\n",
       "</div>"
      ],
      "text/plain": [
       "       Daily Time Spent on Site          Age   Area Income  \\\n",
       "count               1000.000000  1000.000000   1000.000000   \n",
       "mean                  65.000200    36.009000  55000.000080   \n",
       "std                   15.853615     8.785562  13414.634022   \n",
       "min                   32.600000    19.000000  13996.500000   \n",
       "25%                   51.360000    29.000000  47031.802500   \n",
       "50%                   68.215000    35.000000  57012.300000   \n",
       "75%                   78.547500    42.000000  65470.635000   \n",
       "max                   91.430000    61.000000  79484.800000   \n",
       "\n",
       "       Daily Internet Usage         Male  Clicked on Ad  \n",
       "count           1000.000000  1000.000000     1000.00000  \n",
       "mean             180.000100     0.481000        0.50000  \n",
       "std               43.902339     0.499889        0.50025  \n",
       "min              104.780000     0.000000        0.00000  \n",
       "25%              138.830000     0.000000        0.00000  \n",
       "50%              183.130000     0.000000        0.50000  \n",
       "75%              218.792500     1.000000        1.00000  \n",
       "max              269.960000     1.000000        1.00000  "
      ]
     },
     "execution_count": 9,
     "metadata": {},
     "output_type": "execute_result"
    }
   ],
   "source": [
    "df.describe()"
   ]
  },
  {
   "cell_type": "code",
   "execution_count": 10,
   "id": "4ecc17d5",
   "metadata": {},
   "outputs": [
    {
     "data": {
      "text/html": [
       "<div>\n",
       "<style scoped>\n",
       "    .dataframe tbody tr th:only-of-type {\n",
       "        vertical-align: middle;\n",
       "    }\n",
       "\n",
       "    .dataframe tbody tr th {\n",
       "        vertical-align: top;\n",
       "    }\n",
       "\n",
       "    .dataframe thead th {\n",
       "        text-align: right;\n",
       "    }\n",
       "</style>\n",
       "<table border=\"1\" class=\"dataframe\">\n",
       "  <thead>\n",
       "    <tr style=\"text-align: right;\">\n",
       "      <th></th>\n",
       "      <th>Daily Time Spent on Site</th>\n",
       "      <th>Age</th>\n",
       "      <th>Area Income</th>\n",
       "      <th>Daily Internet Usage</th>\n",
       "      <th>Male</th>\n",
       "      <th>Clicked on Ad</th>\n",
       "    </tr>\n",
       "  </thead>\n",
       "  <tbody>\n",
       "    <tr>\n",
       "      <th>Daily Time Spent on Site</th>\n",
       "      <td>1.000000</td>\n",
       "      <td>-0.331513</td>\n",
       "      <td>0.310954</td>\n",
       "      <td>0.518658</td>\n",
       "      <td>-0.018951</td>\n",
       "      <td>-0.748117</td>\n",
       "    </tr>\n",
       "    <tr>\n",
       "      <th>Age</th>\n",
       "      <td>-0.331513</td>\n",
       "      <td>1.000000</td>\n",
       "      <td>-0.182605</td>\n",
       "      <td>-0.367209</td>\n",
       "      <td>-0.021044</td>\n",
       "      <td>0.492531</td>\n",
       "    </tr>\n",
       "    <tr>\n",
       "      <th>Area Income</th>\n",
       "      <td>0.310954</td>\n",
       "      <td>-0.182605</td>\n",
       "      <td>1.000000</td>\n",
       "      <td>0.337496</td>\n",
       "      <td>0.001322</td>\n",
       "      <td>-0.476255</td>\n",
       "    </tr>\n",
       "    <tr>\n",
       "      <th>Daily Internet Usage</th>\n",
       "      <td>0.518658</td>\n",
       "      <td>-0.367209</td>\n",
       "      <td>0.337496</td>\n",
       "      <td>1.000000</td>\n",
       "      <td>0.028012</td>\n",
       "      <td>-0.786539</td>\n",
       "    </tr>\n",
       "    <tr>\n",
       "      <th>Male</th>\n",
       "      <td>-0.018951</td>\n",
       "      <td>-0.021044</td>\n",
       "      <td>0.001322</td>\n",
       "      <td>0.028012</td>\n",
       "      <td>1.000000</td>\n",
       "      <td>-0.038027</td>\n",
       "    </tr>\n",
       "    <tr>\n",
       "      <th>Clicked on Ad</th>\n",
       "      <td>-0.748117</td>\n",
       "      <td>0.492531</td>\n",
       "      <td>-0.476255</td>\n",
       "      <td>-0.786539</td>\n",
       "      <td>-0.038027</td>\n",
       "      <td>1.000000</td>\n",
       "    </tr>\n",
       "  </tbody>\n",
       "</table>\n",
       "</div>"
      ],
      "text/plain": [
       "                          Daily Time Spent on Site       Age  Area Income  \\\n",
       "Daily Time Spent on Site                  1.000000 -0.331513     0.310954   \n",
       "Age                                      -0.331513  1.000000    -0.182605   \n",
       "Area Income                               0.310954 -0.182605     1.000000   \n",
       "Daily Internet Usage                      0.518658 -0.367209     0.337496   \n",
       "Male                                     -0.018951 -0.021044     0.001322   \n",
       "Clicked on Ad                            -0.748117  0.492531    -0.476255   \n",
       "\n",
       "                          Daily Internet Usage      Male  Clicked on Ad  \n",
       "Daily Time Spent on Site              0.518658 -0.018951      -0.748117  \n",
       "Age                                  -0.367209 -0.021044       0.492531  \n",
       "Area Income                           0.337496  0.001322      -0.476255  \n",
       "Daily Internet Usage                  1.000000  0.028012      -0.786539  \n",
       "Male                                  0.028012  1.000000      -0.038027  \n",
       "Clicked on Ad                        -0.786539 -0.038027       1.000000  "
      ]
     },
     "execution_count": 10,
     "metadata": {},
     "output_type": "execute_result"
    }
   ],
   "source": [
    "df.corr()"
   ]
  },
  {
   "cell_type": "markdown",
   "id": "cb8bccf1",
   "metadata": {},
   "source": [
    "### Renaming column "
   ]
  },
  {
   "cell_type": "code",
   "execution_count": 11,
   "id": "wireless-greeting",
   "metadata": {},
   "outputs": [],
   "source": [
    "df=df.rename({'Daily Time Spent on Site':'daily_time_spent', \n",
    "              'Area Income':'area_income', \n",
    "              'Daily Internet Usage':'daily_internet_usage',\n",
    "              'Ad Topic Line':'ad_topic_line', \n",
    "              'Clicked on Ad':'clicked_ad'}, axis=1)"
   ]
  },
  {
   "cell_type": "code",
   "execution_count": null,
   "id": "annual-financing",
   "metadata": {
    "scrolled": true
   },
   "outputs": [],
   "source": [
    "from dataprep.eda import plot, plot_correlation, create_report, plot_missing"
   ]
  },
  {
   "cell_type": "code",
   "execution_count": null,
   "id": "metropolitan-elevation",
   "metadata": {},
   "outputs": [],
   "source": [
    "#plot(df)"
   ]
  },
  {
   "cell_type": "code",
   "execution_count": null,
   "id": "logical-router",
   "metadata": {},
   "outputs": [],
   "source": [
    "#create_report(df)"
   ]
  },
  {
   "cell_type": "code",
   "execution_count": null,
   "id": "incorporate-attachment",
   "metadata": {},
   "outputs": [],
   "source": [
    "plot(df, \"Age\", \"daily_internet_usage\")"
   ]
  },
  {
   "cell_type": "code",
   "execution_count": null,
   "id": "affecting-coverage",
   "metadata": {},
   "outputs": [],
   "source": [
    "plot(df, \"Age\", \"clicked_ad\")"
   ]
  },
  {
   "cell_type": "code",
   "execution_count": null,
   "id": "amended-budget",
   "metadata": {
    "scrolled": true
   },
   "outputs": [],
   "source": [
    "plot(df, \"area_income\", \"daily_internet_usage\")"
   ]
  },
  {
   "cell_type": "markdown",
   "id": "attended-throw",
   "metadata": {},
   "source": [
    "### Model Building  "
   ]
  },
  {
   "cell_type": "code",
   "execution_count": 12,
   "id": "retired-territory",
   "metadata": {},
   "outputs": [],
   "source": [
    "x= df[['daily_time_spent', 'Age', 'area_income', 'daily_internet_usage', 'Male']]  # Independent Variable\n",
    "\n",
    "y= df['clicked_ad']  # Target Variable"
   ]
  },
  {
   "cell_type": "code",
   "execution_count": 13,
   "id": "unlike-pulse",
   "metadata": {},
   "outputs": [],
   "source": [
    "# split\n",
    "from sklearn.model_selection import train_test_split\n",
    "x_train, x_test, y_train, y_test = train_test_split(x,y, test_size = 0.27, random_state= 1000)"
   ]
  },
  {
   "cell_type": "code",
   "execution_count": 14,
   "id": "cc3aeb0c",
   "metadata": {},
   "outputs": [],
   "source": [
    "from sklearn.preprocessing import StandardScaler\n",
    "sc = StandardScaler()\n",
    "x_train=sc.fit_transform(x_train)\n",
    "x_test=sc.transform(x_test)"
   ]
  },
  {
   "cell_type": "markdown",
   "id": "4fa343f5",
   "metadata": {},
   "source": [
    "## Logistic Tree, Decision Tree, Random Forest, SVM, Gaussian NB\n",
    "    Applying different Classification algorithms"
   ]
  },
  {
   "cell_type": "markdown",
   "id": "605debb8",
   "metadata": {},
   "source": [
    "### Converting Dataframe into array for faster computation "
   ]
  },
  {
   "cell_type": "code",
   "execution_count": 16,
   "id": "d188ee7f",
   "metadata": {},
   "outputs": [],
   "source": [
    "x_train = np.array(x_train) \n",
    "x_test = np.array(x_test)\n",
    "y_train = np.array(y_train)\n",
    "y_test = np.array(y_test)"
   ]
  },
  {
   "cell_type": "code",
   "execution_count": null,
   "id": "dab0726a",
   "metadata": {},
   "outputs": [],
   "source": []
  },
  {
   "cell_type": "code",
   "execution_count": 17,
   "id": "e472d586",
   "metadata": {},
   "outputs": [
    {
     "data": {
      "text/plain": [
       "array([[ 0.19377788, -1.27549843,  1.00270855,  0.19802615,  1.01379376],\n",
       "       [-0.96568716,  1.87471761, -0.71526816, -1.18305551,  1.01379376],\n",
       "       [-0.93263086,  0.29960959,  1.03120978, -0.98637959, -0.98639392],\n",
       "       ...,\n",
       "       [-1.46652117,  0.52462502,  1.04806257, -0.28507768, -0.98639392],\n",
       "       [-1.8157952 ,  0.86214817, -1.58970184, -0.32171114,  1.01379376],\n",
       "       [ 0.25552454, -0.48794442,  1.32730618,  0.95107283,  1.01379376]])"
      ]
     },
     "execution_count": 17,
     "metadata": {},
     "output_type": "execute_result"
    }
   ],
   "source": []
  },
  {
   "cell_type": "markdown",
   "id": "finnish-spouse",
   "metadata": {},
   "source": [
    "### Logistic Regression "
   ]
  },
  {
   "cell_type": "code",
   "execution_count": null,
   "id": "suffering-tsunami",
   "metadata": {},
   "outputs": [],
   "source": [
    "from sklearn.model_selection import RepeatedStratifiedKFold"
   ]
  },
  {
   "cell_type": "code",
   "execution_count": null,
   "id": "utility-glance",
   "metadata": {},
   "outputs": [],
   "source": [
    "from sklearn.linear_model import LogisticRegression\n",
    "LR = LogisticRegression()"
   ]
  },
  {
   "cell_type": "code",
   "execution_count": null,
   "id": "protective-windsor",
   "metadata": {
    "scrolled": false
   },
   "outputs": [],
   "source": [
    "#define grid search\n",
    "solvers = ['newton-cg', 'lbfgs', 'liblinear']\n",
    "penalty = ['l2']\n",
    "c_values = [100, 10, 1.0, 0.1, 0.01]\n",
    "grid = dict(solver=solvers,penalty=penalty,C=c_values)\n",
    "\n",
    "# Corss-fold parameters\n",
    "cv = RepeatedStratifiedKFold(n_splits=10, n_repeats=3, random_state=1)\n",
    "\n",
    "# GridSearchCV\n",
    "grid_search = GridSearchCV(estimator=LR, param_grid=grid, n_jobs=-1, cv=cv, scoring='accuracy',error_score=0)\n",
    "\n",
    "LR = grid_search.fit(x, y)"
   ]
  },
  {
   "cell_type": "code",
   "execution_count": null,
   "id": "b875feb3",
   "metadata": {},
   "outputs": [],
   "source": [
    "print('Parameters currently in use:\\n')\n",
    "print(LR.get_params())"
   ]
  },
  {
   "cell_type": "code",
   "execution_count": null,
   "id": "14498c43",
   "metadata": {},
   "outputs": [],
   "source": [
    "# Accuracy\n",
    "accuracy=LR.score(x_test,y_test)\n",
    "print('\\n Accuracy',accuracy*100,'%')\n",
    "\n",
    "# Confusion Matrix\n",
    "from sklearn.metrics import confusion_matrix\n",
    "result = confusion_matrix(y_test,predictions)\n",
    "print(result)\n",
    "\n",
    "# Classification report\n",
    "print(classification_report(y_test,predictions))"
   ]
  },
  {
   "cell_type": "code",
   "execution_count": null,
   "id": "80a1f192",
   "metadata": {},
   "outputs": [],
   "source": [
    "# Make predictions\n",
    "predictions=LR.predict(x_test)  "
   ]
  },
  {
   "cell_type": "markdown",
   "id": "pressing-barcelona",
   "metadata": {},
   "source": [
    "### Decision Tree "
   ]
  },
  {
   "cell_type": "code",
   "execution_count": null,
   "id": "spiritual-interview",
   "metadata": {},
   "outputs": [],
   "source": []
  },
  {
   "cell_type": "code",
   "execution_count": null,
   "id": "stainless-maryland",
   "metadata": {},
   "outputs": [],
   "source": [
    "from sklearn.tree import DecisionTreeClassifier \n",
    "DTC = DecisionTreeClassifier()             \n",
    "\n",
    "DTC.fit(x_train, y_train)                  \n",
    "y_pred = DTC.predict(x_test)              "
   ]
  },
  {
   "cell_type": "code",
   "execution_count": null,
   "id": "de3aae90",
   "metadata": {},
   "outputs": [],
   "source": []
  },
  {
   "cell_type": "code",
   "execution_count": null,
   "id": "a5942472",
   "metadata": {},
   "outputs": [],
   "source": [
    "DTC.get_params_"
   ]
  },
  {
   "cell_type": "code",
   "execution_count": null,
   "id": "5f951a06",
   "metadata": {},
   "outputs": [],
   "source": [
    "# Accuracy\n",
    "accuracy=DTC.score(x_test,y_test)\n",
    "print('\\n Accuracy',accuracy*100,'%')\n",
    "\n",
    "# Making the Confusion Matrix\n",
    "from sklearn.metrics import confusion_matrix\n",
    "cm = confusion_matrix(y_test, y_pred)\n",
    "print('\\n Confusion Matrix\\n',cm)\n",
    "\n",
    "# Classification Report\n",
    "from sklearn.metrics import classification_report\n",
    "print('\\n Classification Report\\n',classification_report(y_test, y_pred))"
   ]
  },
  {
   "cell_type": "code",
   "execution_count": null,
   "id": "whole-routine",
   "metadata": {},
   "outputs": [],
   "source": [
    "DTC = LogisticRegression()\n",
    "DTC.fit(x_train, y_train)\n",
    "y_pred = DTC.predict(x_test)\n",
    "cr = classification_report(y_test, y_pred, output_dict=True)\n",
    "cr_df = pd.DataFrame(cr)\n",
    "fig = plt.subplots(figsize=(7, 5))\n",
    "sns.heatmap(cr_df.iloc[:-1, :].T, annot=True, vmin=0.9, cmap='copper_r', linewidth=3)\n",
    "plt.title('Classification report')\n",
    "plt.show()"
   ]
  },
  {
   "cell_type": "markdown",
   "id": "super-taiwan",
   "metadata": {},
   "source": [
    "### RandomForest "
   ]
  },
  {
   "cell_type": "code",
   "execution_count": null,
   "id": "international-cookie",
   "metadata": {},
   "outputs": [],
   "source": []
  },
  {
   "cell_type": "code",
   "execution_count": null,
   "id": "sensitive-invitation",
   "metadata": {},
   "outputs": [],
   "source": [
    "# Fitting Random Forest Classification to the Training set \n",
    "from sklearn.ensemble import RandomForestClassifier\n",
    "RFC = RandomForestClassifier() # n_estimators = 10, criterion = 'entropy', max_leaf_nodes=124, random_state = 0)\n",
    "\n",
    "RFC.fit(x_train, y_train)\n",
    "#y_pred = RFC.predict(x_test)\n",
    "\n",
    "# Classification Report\n",
    "from sklearn.metrics import classification_report\n",
    "print('\\n Classification Report\\n',classification_report(y_test, y_pred))"
   ]
  },
  {
   "cell_type": "markdown",
   "id": "26a2de63",
   "metadata": {},
   "source": [
    "Random Forests makes it easy to measure the relative importance of each feature , sk-learn measure's feature importance by \n",
    "looking at how much the tree nodes that use that feature reduce impurity on average (across all trees in the forest) or it is a \n",
    "weighted average (where each node weight is equal to the no. of training samples associated with it)."
   ]
  },
  {
   "cell_type": "code",
   "execution_count": null,
   "id": "tropical-netherlands",
   "metadata": {},
   "outputs": [],
   "source": [
    "# parameters used by Random forest\n",
    "RFC.get_params()"
   ]
  },
  {
   "cell_type": "code",
   "execution_count": null,
   "id": "895d896a",
   "metadata": {},
   "outputs": [],
   "source": [
    "# Setting up the Hyperprameters\n",
    "forest_params = [{\n",
    "                  'n_estimators': [10,200],\n",
    "                  'max_depth': list(range(10, 25)), \n",
    "                  'max_features': list(range(0,30)), \n",
    "                  'max_leaf_nodes':list(range(10, 50)),\n",
    "                }]\n",
    "\n",
    "# Corss-Validation\n",
    "RFC = GridSearchCV(RFC, forest_params, cv = 3, n_jobs = -1, verbose = 2,scoring='roc_auc')\n",
    "RFC.fit(x_train, y_train)"
   ]
  },
  {
   "cell_type": "code",
   "execution_count": null,
   "id": "e45204b7",
   "metadata": {},
   "outputs": [],
   "source": [
    "RFC.best_params_"
   ]
  },
  {
   "cell_type": "code",
   "execution_count": null,
   "id": "7654f3c3",
   "metadata": {
    "scrolled": true
   },
   "outputs": [],
   "source": [
    "%%time\n",
    "\n",
    "from sklearn.experimental import enable_halving_search_cv  \n",
    "from sklearn.model_selection import HalvingGridSearchCV, GridSearchCV\n",
    "\n",
    "forest_params = [{\n",
    "                  'n_estimators': [10,200],\n",
    "                  'max_depth': list(range(10, 25)), \n",
    "                  'max_features': list(range(0,30)), \n",
    "                  'max_leaf_nodes':list(range(10, 50)),\n",
    "                }]\n",
    "\n",
    "# Corss-Validation\n",
    "RFC = HalvingGridSearchCV(RFC, forest_params, cv = 3, n_jobs = -1, verbose = 2,scoring='roc_auc')\n",
    "RFC.fit(x_train, y_train)"
   ]
  },
  {
   "cell_type": "code",
   "execution_count": null,
   "id": "9d25254e",
   "metadata": {},
   "outputs": [],
   "source": [
    "RFC.best_params_"
   ]
  },
  {
   "cell_type": "code",
   "execution_count": null,
   "id": "6aeb6046",
   "metadata": {},
   "outputs": [],
   "source": [
    "# Accuracy\n",
    "accuracy=RFC.score(x_test,y_test)\n",
    "print('\\n Accuracy',accuracy*100,'%')\n",
    "type(y_pred)\n",
    "type(x_test)\n",
    "\n",
    "# Classification Report\n",
    "from sklearn.metrics import classification_report\n",
    "print('\\n Classification Report\\n',classification_report(y_test, y_pred))\n",
    "\n",
    "accuracy=RFC.score(x_test,y_test)\n",
    "print('\\n Accuracy',accuracy*100,'%')\n"
   ]
  },
  {
   "cell_type": "markdown",
   "id": "systematic-drawing",
   "metadata": {},
   "source": [
    "### Support Vector Machine "
   ]
  },
  {
   "cell_type": "code",
   "execution_count": null,
   "id": "heated-cleanup",
   "metadata": {},
   "outputs": [],
   "source": [
    "tqdm"
   ]
  },
  {
   "cell_type": "code",
   "execution_count": null,
   "id": "cosmetic-accident",
   "metadata": {},
   "outputs": [],
   "source": [
    "# Fitting SVM to the Training set\n",
    "from sklearn.svm import SVC\n",
    "svc = SVC(kernel = 'linear', random_state = 0)\n",
    "\n",
    "svc.fit(x_train, y_train)\n",
    "y_pred = svc.predict(x_test)"
   ]
  },
  {
   "cell_type": "code",
   "execution_count": null,
   "id": "968fb198",
   "metadata": {},
   "outputs": [],
   "source": [
    "pip install scikit-learn --upgrade"
   ]
  },
  {
   "cell_type": "code",
   "execution_count": null,
   "id": "1a4e211f",
   "metadata": {},
   "outputs": [],
   "source": [
    "svc.get_params_"
   ]
  },
  {
   "cell_type": "code",
   "execution_count": null,
   "id": "24489f7c",
   "metadata": {},
   "outputs": [],
   "source": [
    "# Accuracy\n",
    "accuracy= svc.score(x_test,y_test)\n",
    "print('\\n Accuracy',accuracy*100,'%')\n",
    "\n",
    "# Making the Confusion Matrix\n",
    "from sklearn.metrics import confusion_matrix\n",
    "cm = confusion_matrix(y_test, y_pred)\n",
    "print('\\n Confusion Matrix\\n',cm)\n",
    "\n",
    "# Classification Report\n",
    "from sklearn.metrics import classification_report\n",
    "print('\\n Classification Report\\n',classification_report(y_test, y_pred))\n"
   ]
  },
  {
   "cell_type": "code",
   "execution_count": null,
   "id": "acting-dragon",
   "metadata": {},
   "outputs": [],
   "source": [
    "# sns.heatmap(cm/np.sum(cm), annot=True, fmt='.2%', cmap='Blues')\n",
    "group_names = ['True Pos','False Pos','False Neg','True Neg']\n",
    "group_counts = ['{0:0.0f}'.format(value) for value in cm.flatten()]\n",
    "group_percentages = ['{0:.2%}'.format(value) for value in cm.flatten()/np.sum(cm)]\n",
    "labels = [f'{v1}\\n{v2}\\n{v3}' for v1, v2, v3 in  zip(group_names,group_counts,group_percentages)]\n",
    "labels = np.asarray(labels).reshape(2,2)\n",
    "sns.heatmap(cm, annot=labels, fmt='', cmap='Blues')"
   ]
  },
  {
   "cell_type": "code",
   "execution_count": null,
   "id": "breeding-knight",
   "metadata": {},
   "outputs": [],
   "source": []
  },
  {
   "cell_type": "markdown",
   "id": "hungry-edinburgh",
   "metadata": {},
   "source": [
    "### GaussianNB "
   ]
  },
  {
   "cell_type": "code",
   "execution_count": null,
   "id": "comprehensive-spare",
   "metadata": {},
   "outputs": [],
   "source": []
  },
  {
   "cell_type": "code",
   "execution_count": null,
   "id": "attached-apparel",
   "metadata": {},
   "outputs": [],
   "source": [
    "# Fitting Naive Bayes to the Training set\n",
    "from sklearn.naive_bayes import GaussianNB\n",
    "GNB = GaussianNB()\n",
    "\n",
    "GNB.fit(x_train, y_train)\n",
    "y_pred = GNB.predict(x_test)"
   ]
  },
  {
   "cell_type": "code",
   "execution_count": null,
   "id": "5009afc0",
   "metadata": {},
   "outputs": [],
   "source": []
  },
  {
   "cell_type": "code",
   "execution_count": null,
   "id": "42d5115d",
   "metadata": {},
   "outputs": [],
   "source": [
    "GNB.get_params_"
   ]
  },
  {
   "cell_type": "code",
   "execution_count": null,
   "id": "1d9a4b59",
   "metadata": {},
   "outputs": [],
   "source": [
    "# accuracy\n",
    "accuracy=GNB.score(x_test,y_test)\n",
    "print('\\n Accuracy',accuracy*100,'%')\n",
    "\n",
    "# Making the Confusion Matrix\n",
    "from sklearn.metrics import confusion_matrix\n",
    "cm = confusion_matrix(y_test, y_pred)\n",
    "print('\\n Comfusion Matrix\\n',cm)\n",
    "\n",
    "# Classification Report\n",
    "from sklearn.metrics import classification_report\n",
    "print('\\n Classification Report\\n',classification_report(y_test, y_pred))"
   ]
  },
  {
   "cell_type": "markdown",
   "id": "a9a60d4f",
   "metadata": {},
   "source": [
    "# Upcoming Additions"
   ]
  },
  {
   "cell_type": "code",
   "execution_count": null,
   "id": "unique-thunder",
   "metadata": {},
   "outputs": [],
   "source": [
    "# Working on below Cells "
   ]
  },
  {
   "cell_type": "code",
   "execution_count": null,
   "id": "numerical-difficulty",
   "metadata": {},
   "outputs": [],
   "source": [
    "# LDA\n",
    "from sklearn.discriminant_analysis import LinearDiscriminantAnalysis as LDA\n",
    "lda = LDA()\n",
    "\n",
    "x_train = lda.fit_transform(x_train, y_train)\n",
    "x_test = lda.transform(x_test)"
   ]
  },
  {
   "cell_type": "code",
   "execution_count": null,
   "id": "fantastic-allergy",
   "metadata": {},
   "outputs": [],
   "source": [
    "group_names = ['True Neg','False Pos','False Neg','True Pos']\n",
    "group_counts = ['{0:0.0f}'.format(value) for value in\n",
    "                cm.flatten()]\n",
    "group_percentages = ['{0:.2%}'.format(value) for value in\n",
    "                     cm.flatten()/np.sum(cm)]\n",
    "labels = [f'{v1}\\n{v2}\\n{v3}' for v1, v2, v3 in\n",
    "          zip(group_names,group_counts,group_percentages)]\n",
    "labels = np.asarray(labels).reshape(2,2)\n",
    "sns.heatmap(cm, annot=labels, fmt='', cmap='Blues')"
   ]
  },
  {
   "cell_type": "code",
   "execution_count": null,
   "id": "differential-christopher",
   "metadata": {},
   "outputs": [],
   "source": []
  },
  {
   "cell_type": "code",
   "execution_count": null,
   "id": "funky-works",
   "metadata": {},
   "outputs": [],
   "source": [
    "# Selecting the best hyperparameters with help of GRID Search\n",
    "from sklearn.model_selection import GridSearchCV\n",
    "from sklearn.svm import SVC\n",
    "Hyper_parameters = {\n",
    "                    'C': [0.1,1,10,100,1000],\n",
    "                'gamma': [1,0.1,0.01,0.001,0.0001],\n",
    "               'kernel': ['rbf'] }\n",
    "\n",
    "GridSearch_svc = GridSearchCV(estimator = SVC(), param_grid = Hyper_parameters, cv=15, n_jobs=-1)\n",
    "GridSearch_svc.fit(x_train, y_train)"
   ]
  },
  {
   "cell_type": "code",
   "execution_count": null,
   "id": "adolescent-cement",
   "metadata": {},
   "outputs": [],
   "source": [
    "svc =SVC(C=100, gamma=0.1, kernel='rbf', probability=true)\n",
    "svc.fit(x_train_scaled, y_train)\n",
    "\n",
    "pred_svc_test = svc.predict(x_test_scaled)\n",
    "pred_svc_train = svc.predict(x_train_scaled)\n",
    "\n",
    "train_accuracy_svc = accuracy_score(y_train, pred_svc_train)*100\n",
    "test_accuracy_svc = accuracy_score(y_train, pred_svc_train)*100\n",
    "\n",
    "train_accuracy.append(train_accuracy_svc)\n",
    "test_accuracy.append(test_accuracy_svc)\n",
    "\n",
    "print(\"Accuracy on Train Data: {}\".format(accuracy_score(y_train,pred_svc_train)*100))\n",
    "print(\"Accuracy on Test Data:{}\".format(accuracy_score(y_test,pred_svc_test)*100))"
   ]
  },
  {
   "cell_type": "code",
   "execution_count": null,
   "id": "burning-christopher",
   "metadata": {},
   "outputs": [],
   "source": []
  },
  {
   "cell_type": "code",
   "execution_count": null,
   "id": "willing-series",
   "metadata": {},
   "outputs": [],
   "source": []
  }
 ],
 "metadata": {
  "kernelspec": {
   "display_name": "Python 3 (ipykernel)",
   "language": "python",
   "name": "python3"
  },
  "language_info": {
   "codemirror_mode": {
    "name": "ipython",
    "version": 3
   },
   "file_extension": ".py",
   "mimetype": "text/x-python",
   "name": "python",
   "nbconvert_exporter": "python",
   "pygments_lexer": "ipython3",
   "version": "3.9.12"
  }
 },
 "nbformat": 4,
 "nbformat_minor": 5
}
